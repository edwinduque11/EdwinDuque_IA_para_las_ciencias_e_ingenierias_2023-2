{
  "cells": [
    {
      "cell_type": "markdown",
      "metadata": {
        "id": "view-in-github",
        "colab_type": "text"
      },
      "source": [
        "<a href=\"https://colab.research.google.com/github/edwinduque11/EdwinDuque_IA_para_las_ciencias_e_ingenierias_2023-2/blob/main/03_Modelos_e_iteraci%C3%B3nes.ipynb\" target=\"_parent\"><img src=\"https://colab.research.google.com/assets/colab-badge.svg\" alt=\"Open In Colab\"/></a>"
      ]
    },
    {
      "cell_type": "markdown",
      "metadata": {
        "id": "FwoSlARkcNT5"
      },
      "source": [
        "# Limpieza de datos"
      ]
    },
    {
      "cell_type": "code",
      "execution_count": null,
      "metadata": {
        "id": "ksvV4gXpcH0R"
      },
      "outputs": [],
      "source": [
        "#Importamos las librerias que se usaran.\n",
        "import pandas as pd\n",
        "import seaborn as sns\n",
        "import numpy as np\n",
        "import matplotlib.pyplot as plt\n",
        "%matplotlib inline"
      ]
    },
    {
      "cell_type": "markdown",
      "metadata": {
        "id": "kYrkH9hvDUt8"
      },
      "source": [
        "# Cargar los archivos desde Kaggle\n",
        "tener en cuenta que se deben aceptar las reglas de la competencia en el siguiente link: https://www.kaggle.com/competitions/playground-series-s3e20/rules\n",
        "\n",
        "ademas se debe ingresar con el usuario y clave para descargar los archivos (estos se pueden ver creando un nuevo token en la parte de configuraciones del Kaggle)"
      ]
    },
    {
      "cell_type": "code",
      "execution_count": null,
      "metadata": {
        "colab": {
          "base_uri": "https://localhost:8080/"
        },
        "id": "U6BjKCn59pHO",
        "outputId": "28c15926-3307-45d3-867d-60b27200aaed"
      },
      "outputs": [
        {
          "output_type": "stream",
          "name": "stdout",
          "text": [
            "Collecting opendatasets\n",
            "  Downloading opendatasets-0.1.22-py3-none-any.whl (15 kB)\n",
            "Requirement already satisfied: tqdm in /usr/local/lib/python3.10/dist-packages (from opendatasets) (4.66.1)\n",
            "Requirement already satisfied: kaggle in /usr/local/lib/python3.10/dist-packages (from opendatasets) (1.5.16)\n",
            "Requirement already satisfied: click in /usr/local/lib/python3.10/dist-packages (from opendatasets) (8.1.7)\n",
            "Requirement already satisfied: six>=1.10 in /usr/local/lib/python3.10/dist-packages (from kaggle->opendatasets) (1.16.0)\n",
            "Requirement already satisfied: certifi in /usr/local/lib/python3.10/dist-packages (from kaggle->opendatasets) (2023.7.22)\n",
            "Requirement already satisfied: python-dateutil in /usr/local/lib/python3.10/dist-packages (from kaggle->opendatasets) (2.8.2)\n",
            "Requirement already satisfied: requests in /usr/local/lib/python3.10/dist-packages (from kaggle->opendatasets) (2.31.0)\n",
            "Requirement already satisfied: python-slugify in /usr/local/lib/python3.10/dist-packages (from kaggle->opendatasets) (8.0.1)\n",
            "Requirement already satisfied: urllib3 in /usr/local/lib/python3.10/dist-packages (from kaggle->opendatasets) (2.0.7)\n",
            "Requirement already satisfied: bleach in /usr/local/lib/python3.10/dist-packages (from kaggle->opendatasets) (6.1.0)\n",
            "Requirement already satisfied: webencodings in /usr/local/lib/python3.10/dist-packages (from bleach->kaggle->opendatasets) (0.5.1)\n",
            "Requirement already satisfied: text-unidecode>=1.3 in /usr/local/lib/python3.10/dist-packages (from python-slugify->kaggle->opendatasets) (1.3)\n",
            "Requirement already satisfied: charset-normalizer<4,>=2 in /usr/local/lib/python3.10/dist-packages (from requests->kaggle->opendatasets) (3.3.2)\n",
            "Requirement already satisfied: idna<4,>=2.5 in /usr/local/lib/python3.10/dist-packages (from requests->kaggle->opendatasets) (3.4)\n",
            "Installing collected packages: opendatasets\n",
            "Successfully installed opendatasets-0.1.22\n"
          ]
        }
      ],
      "source": [
        "!pip install opendatasets\n",
        "import opendatasets as od"
      ]
    },
    {
      "cell_type": "markdown",
      "metadata": {
        "id": "CuJUhOK9oNaE"
      },
      "source": [
        "{\"username\":\"edwinduque11\",\"key\":\"6707cd44b7a2cd12746041dfe56c8173\"}"
      ]
    },
    {
      "cell_type": "code",
      "execution_count": null,
      "metadata": {
        "colab": {
          "base_uri": "https://localhost:8080/"
        },
        "id": "0VWVw3Af9qkG",
        "outputId": "23d5224c-d3f0-4937-b3c7-893be8b9e552"
      },
      "outputs": [
        {
          "output_type": "stream",
          "name": "stdout",
          "text": [
            "Please provide your Kaggle credentials to download this dataset. Learn more: http://bit.ly/kaggle-creds\n",
            "Your Kaggle username: edwinduque11\n",
            "Your Kaggle Key: ··········\n",
            "Downloading playground-series-s3e20.zip to ./playground-series-s3e20\n"
          ]
        },
        {
          "output_type": "stream",
          "name": "stderr",
          "text": [
            "100%|██████████| 48.9M/48.9M [00:00<00:00, 63.4MB/s]\n"
          ]
        },
        {
          "output_type": "stream",
          "name": "stdout",
          "text": [
            "\n",
            "Extracting archive ./playground-series-s3e20/playground-series-s3e20.zip to ./playground-series-s3e20\n"
          ]
        }
      ],
      "source": [
        "\n",
        "dataset_link=\"https://www.kaggle.com/competitions/playground-series-s3e20/data\"\n",
        "od.download(dataset_link)"
      ]
    },
    {
      "cell_type": "code",
      "execution_count": null,
      "metadata": {
        "id": "mFaE6l7YAEgO",
        "colab": {
          "base_uri": "https://localhost:8080/"
        },
        "outputId": "298d8321-3e36-4989-9317-269ec2c51469"
      },
      "outputs": [
        {
          "output_type": "execute_result",
          "data": {
            "text/plain": [
              "['sample_submission.csv', 'train.csv', 'test.csv']"
            ]
          },
          "metadata": {},
          "execution_count": 4
        }
      ],
      "source": [
        "import os\n",
        "os.chdir(\"playground-series-s3e20\")\n",
        "os.listdir()"
      ]
    },
    {
      "cell_type": "code",
      "execution_count": null,
      "metadata": {
        "colab": {
          "base_uri": "https://localhost:8080/",
          "height": 255
        },
        "id": "Cj0z1uHaC2Ad",
        "outputId": "0eaef204-6bc7-41dd-cdd9-988cd809cbd4"
      },
      "outputs": [
        {
          "output_type": "execute_result",
          "data": {
            "text/plain": [
              "       ID_LAT_LON_YEAR_WEEK  latitude  longitude  year  week_no  \\\n",
              "0  ID_-0.510_29.290_2019_00     -0.51      29.29  2019        0   \n",
              "1  ID_-0.510_29.290_2019_01     -0.51      29.29  2019        1   \n",
              "2  ID_-0.510_29.290_2019_02     -0.51      29.29  2019        2   \n",
              "3  ID_-0.510_29.290_2019_03     -0.51      29.29  2019        3   \n",
              "4  ID_-0.510_29.290_2019_04     -0.51      29.29  2019        4   \n",
              "\n",
              "   SulphurDioxide_SO2_column_number_density  \\\n",
              "0                                 -0.000108   \n",
              "1                                  0.000021   \n",
              "2                                  0.000514   \n",
              "3                                       NaN   \n",
              "4                                 -0.000079   \n",
              "\n",
              "   SulphurDioxide_SO2_column_number_density_amf  \\\n",
              "0                                      0.603019   \n",
              "1                                      0.728214   \n",
              "2                                      0.748199   \n",
              "3                                           NaN   \n",
              "4                                      0.676296   \n",
              "\n",
              "   SulphurDioxide_SO2_slant_column_number_density  \\\n",
              "0                                       -0.000065   \n",
              "1                                        0.000014   \n",
              "2                                        0.000385   \n",
              "3                                             NaN   \n",
              "4                                       -0.000048   \n",
              "\n",
              "   SulphurDioxide_cloud_fraction  SulphurDioxide_sensor_azimuth_angle  ...  \\\n",
              "0                       0.255668                           -98.593887  ...   \n",
              "1                       0.130988                            16.592861  ...   \n",
              "2                       0.110018                            72.795837  ...   \n",
              "3                            NaN                                  NaN  ...   \n",
              "4                       0.121164                             4.121269  ...   \n",
              "\n",
              "   Cloud_cloud_top_height  Cloud_cloud_base_pressure  Cloud_cloud_base_height  \\\n",
              "0             3664.436218               61085.809570              2615.120483   \n",
              "1             3651.190311               66969.478735              3174.572424   \n",
              "2             4216.986492               60068.894448              3516.282669   \n",
              "3             5228.507736               51064.547339              4180.973322   \n",
              "4             3980.598120               63751.125781              3355.710107   \n",
              "\n",
              "   Cloud_cloud_optical_depth  Cloud_surface_albedo  \\\n",
              "0                  15.568533              0.272292   \n",
              "1                   8.690601              0.256830   \n",
              "2                  21.103410              0.251101   \n",
              "3                  15.386899              0.262043   \n",
              "4                   8.114694              0.235847   \n",
              "\n",
              "   Cloud_sensor_azimuth_angle  Cloud_sensor_zenith_angle  \\\n",
              "0                  -12.628986                  35.632416   \n",
              "1                   30.359375                  39.557633   \n",
              "2                   15.377883                  30.401823   \n",
              "3                  -11.293399                  24.380357   \n",
              "4                   38.532263                  37.392979   \n",
              "\n",
              "   Cloud_solar_azimuth_angle  Cloud_solar_zenith_angle  emission  \n",
              "0                -138.786423                 30.752140  3.750994  \n",
              "1                -145.183930                 27.251779  4.025176  \n",
              "2                -142.519545                 26.193296  4.231381  \n",
              "3                -132.665828                 28.829155  4.305286  \n",
              "4                -141.509805                 22.204612  4.347317  \n",
              "\n",
              "[5 rows x 76 columns]"
            ],
            "text/html": [
              "\n",
              "  <div id=\"df-9c0b17e8-a56c-4e1a-8a15-5e1175317d15\" class=\"colab-df-container\">\n",
              "    <div>\n",
              "<style scoped>\n",
              "    .dataframe tbody tr th:only-of-type {\n",
              "        vertical-align: middle;\n",
              "    }\n",
              "\n",
              "    .dataframe tbody tr th {\n",
              "        vertical-align: top;\n",
              "    }\n",
              "\n",
              "    .dataframe thead th {\n",
              "        text-align: right;\n",
              "    }\n",
              "</style>\n",
              "<table border=\"1\" class=\"dataframe\">\n",
              "  <thead>\n",
              "    <tr style=\"text-align: right;\">\n",
              "      <th></th>\n",
              "      <th>ID_LAT_LON_YEAR_WEEK</th>\n",
              "      <th>latitude</th>\n",
              "      <th>longitude</th>\n",
              "      <th>year</th>\n",
              "      <th>week_no</th>\n",
              "      <th>SulphurDioxide_SO2_column_number_density</th>\n",
              "      <th>SulphurDioxide_SO2_column_number_density_amf</th>\n",
              "      <th>SulphurDioxide_SO2_slant_column_number_density</th>\n",
              "      <th>SulphurDioxide_cloud_fraction</th>\n",
              "      <th>SulphurDioxide_sensor_azimuth_angle</th>\n",
              "      <th>...</th>\n",
              "      <th>Cloud_cloud_top_height</th>\n",
              "      <th>Cloud_cloud_base_pressure</th>\n",
              "      <th>Cloud_cloud_base_height</th>\n",
              "      <th>Cloud_cloud_optical_depth</th>\n",
              "      <th>Cloud_surface_albedo</th>\n",
              "      <th>Cloud_sensor_azimuth_angle</th>\n",
              "      <th>Cloud_sensor_zenith_angle</th>\n",
              "      <th>Cloud_solar_azimuth_angle</th>\n",
              "      <th>Cloud_solar_zenith_angle</th>\n",
              "      <th>emission</th>\n",
              "    </tr>\n",
              "  </thead>\n",
              "  <tbody>\n",
              "    <tr>\n",
              "      <th>0</th>\n",
              "      <td>ID_-0.510_29.290_2019_00</td>\n",
              "      <td>-0.51</td>\n",
              "      <td>29.29</td>\n",
              "      <td>2019</td>\n",
              "      <td>0</td>\n",
              "      <td>-0.000108</td>\n",
              "      <td>0.603019</td>\n",
              "      <td>-0.000065</td>\n",
              "      <td>0.255668</td>\n",
              "      <td>-98.593887</td>\n",
              "      <td>...</td>\n",
              "      <td>3664.436218</td>\n",
              "      <td>61085.809570</td>\n",
              "      <td>2615.120483</td>\n",
              "      <td>15.568533</td>\n",
              "      <td>0.272292</td>\n",
              "      <td>-12.628986</td>\n",
              "      <td>35.632416</td>\n",
              "      <td>-138.786423</td>\n",
              "      <td>30.752140</td>\n",
              "      <td>3.750994</td>\n",
              "    </tr>\n",
              "    <tr>\n",
              "      <th>1</th>\n",
              "      <td>ID_-0.510_29.290_2019_01</td>\n",
              "      <td>-0.51</td>\n",
              "      <td>29.29</td>\n",
              "      <td>2019</td>\n",
              "      <td>1</td>\n",
              "      <td>0.000021</td>\n",
              "      <td>0.728214</td>\n",
              "      <td>0.000014</td>\n",
              "      <td>0.130988</td>\n",
              "      <td>16.592861</td>\n",
              "      <td>...</td>\n",
              "      <td>3651.190311</td>\n",
              "      <td>66969.478735</td>\n",
              "      <td>3174.572424</td>\n",
              "      <td>8.690601</td>\n",
              "      <td>0.256830</td>\n",
              "      <td>30.359375</td>\n",
              "      <td>39.557633</td>\n",
              "      <td>-145.183930</td>\n",
              "      <td>27.251779</td>\n",
              "      <td>4.025176</td>\n",
              "    </tr>\n",
              "    <tr>\n",
              "      <th>2</th>\n",
              "      <td>ID_-0.510_29.290_2019_02</td>\n",
              "      <td>-0.51</td>\n",
              "      <td>29.29</td>\n",
              "      <td>2019</td>\n",
              "      <td>2</td>\n",
              "      <td>0.000514</td>\n",
              "      <td>0.748199</td>\n",
              "      <td>0.000385</td>\n",
              "      <td>0.110018</td>\n",
              "      <td>72.795837</td>\n",
              "      <td>...</td>\n",
              "      <td>4216.986492</td>\n",
              "      <td>60068.894448</td>\n",
              "      <td>3516.282669</td>\n",
              "      <td>21.103410</td>\n",
              "      <td>0.251101</td>\n",
              "      <td>15.377883</td>\n",
              "      <td>30.401823</td>\n",
              "      <td>-142.519545</td>\n",
              "      <td>26.193296</td>\n",
              "      <td>4.231381</td>\n",
              "    </tr>\n",
              "    <tr>\n",
              "      <th>3</th>\n",
              "      <td>ID_-0.510_29.290_2019_03</td>\n",
              "      <td>-0.51</td>\n",
              "      <td>29.29</td>\n",
              "      <td>2019</td>\n",
              "      <td>3</td>\n",
              "      <td>NaN</td>\n",
              "      <td>NaN</td>\n",
              "      <td>NaN</td>\n",
              "      <td>NaN</td>\n",
              "      <td>NaN</td>\n",
              "      <td>...</td>\n",
              "      <td>5228.507736</td>\n",
              "      <td>51064.547339</td>\n",
              "      <td>4180.973322</td>\n",
              "      <td>15.386899</td>\n",
              "      <td>0.262043</td>\n",
              "      <td>-11.293399</td>\n",
              "      <td>24.380357</td>\n",
              "      <td>-132.665828</td>\n",
              "      <td>28.829155</td>\n",
              "      <td>4.305286</td>\n",
              "    </tr>\n",
              "    <tr>\n",
              "      <th>4</th>\n",
              "      <td>ID_-0.510_29.290_2019_04</td>\n",
              "      <td>-0.51</td>\n",
              "      <td>29.29</td>\n",
              "      <td>2019</td>\n",
              "      <td>4</td>\n",
              "      <td>-0.000079</td>\n",
              "      <td>0.676296</td>\n",
              "      <td>-0.000048</td>\n",
              "      <td>0.121164</td>\n",
              "      <td>4.121269</td>\n",
              "      <td>...</td>\n",
              "      <td>3980.598120</td>\n",
              "      <td>63751.125781</td>\n",
              "      <td>3355.710107</td>\n",
              "      <td>8.114694</td>\n",
              "      <td>0.235847</td>\n",
              "      <td>38.532263</td>\n",
              "      <td>37.392979</td>\n",
              "      <td>-141.509805</td>\n",
              "      <td>22.204612</td>\n",
              "      <td>4.347317</td>\n",
              "    </tr>\n",
              "  </tbody>\n",
              "</table>\n",
              "<p>5 rows × 76 columns</p>\n",
              "</div>\n",
              "    <div class=\"colab-df-buttons\">\n",
              "\n",
              "  <div class=\"colab-df-container\">\n",
              "    <button class=\"colab-df-convert\" onclick=\"convertToInteractive('df-9c0b17e8-a56c-4e1a-8a15-5e1175317d15')\"\n",
              "            title=\"Convert this dataframe to an interactive table.\"\n",
              "            style=\"display:none;\">\n",
              "\n",
              "  <svg xmlns=\"http://www.w3.org/2000/svg\" height=\"24px\" viewBox=\"0 -960 960 960\">\n",
              "    <path d=\"M120-120v-720h720v720H120Zm60-500h600v-160H180v160Zm220 220h160v-160H400v160Zm0 220h160v-160H400v160ZM180-400h160v-160H180v160Zm440 0h160v-160H620v160ZM180-180h160v-160H180v160Zm440 0h160v-160H620v160Z\"/>\n",
              "  </svg>\n",
              "    </button>\n",
              "\n",
              "  <style>\n",
              "    .colab-df-container {\n",
              "      display:flex;\n",
              "      gap: 12px;\n",
              "    }\n",
              "\n",
              "    .colab-df-convert {\n",
              "      background-color: #E8F0FE;\n",
              "      border: none;\n",
              "      border-radius: 50%;\n",
              "      cursor: pointer;\n",
              "      display: none;\n",
              "      fill: #1967D2;\n",
              "      height: 32px;\n",
              "      padding: 0 0 0 0;\n",
              "      width: 32px;\n",
              "    }\n",
              "\n",
              "    .colab-df-convert:hover {\n",
              "      background-color: #E2EBFA;\n",
              "      box-shadow: 0px 1px 2px rgba(60, 64, 67, 0.3), 0px 1px 3px 1px rgba(60, 64, 67, 0.15);\n",
              "      fill: #174EA6;\n",
              "    }\n",
              "\n",
              "    .colab-df-buttons div {\n",
              "      margin-bottom: 4px;\n",
              "    }\n",
              "\n",
              "    [theme=dark] .colab-df-convert {\n",
              "      background-color: #3B4455;\n",
              "      fill: #D2E3FC;\n",
              "    }\n",
              "\n",
              "    [theme=dark] .colab-df-convert:hover {\n",
              "      background-color: #434B5C;\n",
              "      box-shadow: 0px 1px 3px 1px rgba(0, 0, 0, 0.15);\n",
              "      filter: drop-shadow(0px 1px 2px rgba(0, 0, 0, 0.3));\n",
              "      fill: #FFFFFF;\n",
              "    }\n",
              "  </style>\n",
              "\n",
              "    <script>\n",
              "      const buttonEl =\n",
              "        document.querySelector('#df-9c0b17e8-a56c-4e1a-8a15-5e1175317d15 button.colab-df-convert');\n",
              "      buttonEl.style.display =\n",
              "        google.colab.kernel.accessAllowed ? 'block' : 'none';\n",
              "\n",
              "      async function convertToInteractive(key) {\n",
              "        const element = document.querySelector('#df-9c0b17e8-a56c-4e1a-8a15-5e1175317d15');\n",
              "        const dataTable =\n",
              "          await google.colab.kernel.invokeFunction('convertToInteractive',\n",
              "                                                    [key], {});\n",
              "        if (!dataTable) return;\n",
              "\n",
              "        const docLinkHtml = 'Like what you see? Visit the ' +\n",
              "          '<a target=\"_blank\" href=https://colab.research.google.com/notebooks/data_table.ipynb>data table notebook</a>'\n",
              "          + ' to learn more about interactive tables.';\n",
              "        element.innerHTML = '';\n",
              "        dataTable['output_type'] = 'display_data';\n",
              "        await google.colab.output.renderOutput(dataTable, element);\n",
              "        const docLink = document.createElement('div');\n",
              "        docLink.innerHTML = docLinkHtml;\n",
              "        element.appendChild(docLink);\n",
              "      }\n",
              "    </script>\n",
              "  </div>\n",
              "\n",
              "\n",
              "<div id=\"df-3efce89e-6ee1-4f41-bc01-852498b9e6b6\">\n",
              "  <button class=\"colab-df-quickchart\" onclick=\"quickchart('df-3efce89e-6ee1-4f41-bc01-852498b9e6b6')\"\n",
              "            title=\"Suggest charts\"\n",
              "            style=\"display:none;\">\n",
              "\n",
              "<svg xmlns=\"http://www.w3.org/2000/svg\" height=\"24px\"viewBox=\"0 0 24 24\"\n",
              "     width=\"24px\">\n",
              "    <g>\n",
              "        <path d=\"M19 3H5c-1.1 0-2 .9-2 2v14c0 1.1.9 2 2 2h14c1.1 0 2-.9 2-2V5c0-1.1-.9-2-2-2zM9 17H7v-7h2v7zm4 0h-2V7h2v10zm4 0h-2v-4h2v4z\"/>\n",
              "    </g>\n",
              "</svg>\n",
              "  </button>\n",
              "\n",
              "<style>\n",
              "  .colab-df-quickchart {\n",
              "      --bg-color: #E8F0FE;\n",
              "      --fill-color: #1967D2;\n",
              "      --hover-bg-color: #E2EBFA;\n",
              "      --hover-fill-color: #174EA6;\n",
              "      --disabled-fill-color: #AAA;\n",
              "      --disabled-bg-color: #DDD;\n",
              "  }\n",
              "\n",
              "  [theme=dark] .colab-df-quickchart {\n",
              "      --bg-color: #3B4455;\n",
              "      --fill-color: #D2E3FC;\n",
              "      --hover-bg-color: #434B5C;\n",
              "      --hover-fill-color: #FFFFFF;\n",
              "      --disabled-bg-color: #3B4455;\n",
              "      --disabled-fill-color: #666;\n",
              "  }\n",
              "\n",
              "  .colab-df-quickchart {\n",
              "    background-color: var(--bg-color);\n",
              "    border: none;\n",
              "    border-radius: 50%;\n",
              "    cursor: pointer;\n",
              "    display: none;\n",
              "    fill: var(--fill-color);\n",
              "    height: 32px;\n",
              "    padding: 0;\n",
              "    width: 32px;\n",
              "  }\n",
              "\n",
              "  .colab-df-quickchart:hover {\n",
              "    background-color: var(--hover-bg-color);\n",
              "    box-shadow: 0 1px 2px rgba(60, 64, 67, 0.3), 0 1px 3px 1px rgba(60, 64, 67, 0.15);\n",
              "    fill: var(--button-hover-fill-color);\n",
              "  }\n",
              "\n",
              "  .colab-df-quickchart-complete:disabled,\n",
              "  .colab-df-quickchart-complete:disabled:hover {\n",
              "    background-color: var(--disabled-bg-color);\n",
              "    fill: var(--disabled-fill-color);\n",
              "    box-shadow: none;\n",
              "  }\n",
              "\n",
              "  .colab-df-spinner {\n",
              "    border: 2px solid var(--fill-color);\n",
              "    border-color: transparent;\n",
              "    border-bottom-color: var(--fill-color);\n",
              "    animation:\n",
              "      spin 1s steps(1) infinite;\n",
              "  }\n",
              "\n",
              "  @keyframes spin {\n",
              "    0% {\n",
              "      border-color: transparent;\n",
              "      border-bottom-color: var(--fill-color);\n",
              "      border-left-color: var(--fill-color);\n",
              "    }\n",
              "    20% {\n",
              "      border-color: transparent;\n",
              "      border-left-color: var(--fill-color);\n",
              "      border-top-color: var(--fill-color);\n",
              "    }\n",
              "    30% {\n",
              "      border-color: transparent;\n",
              "      border-left-color: var(--fill-color);\n",
              "      border-top-color: var(--fill-color);\n",
              "      border-right-color: var(--fill-color);\n",
              "    }\n",
              "    40% {\n",
              "      border-color: transparent;\n",
              "      border-right-color: var(--fill-color);\n",
              "      border-top-color: var(--fill-color);\n",
              "    }\n",
              "    60% {\n",
              "      border-color: transparent;\n",
              "      border-right-color: var(--fill-color);\n",
              "    }\n",
              "    80% {\n",
              "      border-color: transparent;\n",
              "      border-right-color: var(--fill-color);\n",
              "      border-bottom-color: var(--fill-color);\n",
              "    }\n",
              "    90% {\n",
              "      border-color: transparent;\n",
              "      border-bottom-color: var(--fill-color);\n",
              "    }\n",
              "  }\n",
              "</style>\n",
              "\n",
              "  <script>\n",
              "    async function quickchart(key) {\n",
              "      const quickchartButtonEl =\n",
              "        document.querySelector('#' + key + ' button');\n",
              "      quickchartButtonEl.disabled = true;  // To prevent multiple clicks.\n",
              "      quickchartButtonEl.classList.add('colab-df-spinner');\n",
              "      try {\n",
              "        const charts = await google.colab.kernel.invokeFunction(\n",
              "            'suggestCharts', [key], {});\n",
              "      } catch (error) {\n",
              "        console.error('Error during call to suggestCharts:', error);\n",
              "      }\n",
              "      quickchartButtonEl.classList.remove('colab-df-spinner');\n",
              "      quickchartButtonEl.classList.add('colab-df-quickchart-complete');\n",
              "    }\n",
              "    (() => {\n",
              "      let quickchartButtonEl =\n",
              "        document.querySelector('#df-3efce89e-6ee1-4f41-bc01-852498b9e6b6 button');\n",
              "      quickchartButtonEl.style.display =\n",
              "        google.colab.kernel.accessAllowed ? 'block' : 'none';\n",
              "    })();\n",
              "  </script>\n",
              "</div>\n",
              "    </div>\n",
              "  </div>\n"
            ]
          },
          "metadata": {},
          "execution_count": 5
        }
      ],
      "source": [
        "d = pd.read_csv(\"train.csv\")\n",
        "d.head()"
      ]
    },
    {
      "cell_type": "markdown",
      "metadata": {
        "id": "NG83RVuLhKc3"
      },
      "source": [
        "# Generamos algunas columnas categoricas"
      ]
    },
    {
      "cell_type": "code",
      "execution_count": null,
      "metadata": {
        "id": "iOP-87WJhCp5"
      },
      "outputs": [],
      "source": [
        "list_catgr = [\"SulphurDioxide_SO2_column_number_density_amf\", \"CarbonMonoxide_CO_column_number_density\", \"NitrogenDioxide_NO2_column_number_density\", \"Formaldehyde_tropospheric_HCHO_column_number_density\", \"UvAerosolIndex_absorbing_aerosol_index\", \"Ozone_O3_column_number_density\", \"Ozone_solar_zenith_angle\"]\n",
        "d_01 = d.copy()\n",
        "\n",
        "for i in list_catgr:\n",
        "  intervalo = np.linspace(d_01[i].min(), d_01[i].max(), 20).tolist()\n",
        "  d_01[i] = pd.cut(d_01[i], bins=intervalo, labels=list(range(5,100,5)))\n",
        "\n"
      ]
    },
    {
      "cell_type": "code",
      "execution_count": null,
      "metadata": {
        "id": "A7QIgGzHIb0M"
      },
      "outputs": [],
      "source": []
    },
    {
      "cell_type": "markdown",
      "metadata": {
        "id": "bH1dVgrmrjPS"
      },
      "source": [
        "#Manejo de datos faltantes"
      ]
    },
    {
      "cell_type": "markdown",
      "metadata": {
        "id": "AqM247cdo03k"
      },
      "source": [
        "Empezaremos eliminando aquellas columnas donde se tienen mas del 10% de datos faltantes"
      ]
    },
    {
      "cell_type": "code",
      "execution_count": null,
      "metadata": {
        "id": "lFAAQ410roOS"
      },
      "outputs": [],
      "source": [
        "porcentaje_faltantes = d_01.isna().mean() * 100\n",
        "columnas_a_eliminar = porcentaje_faltantes[porcentaje_faltantes > 10].index    # Identifico las columnas con mas de 10% de datos faltantes\n",
        "d_02 = d_01.drop(columns=columnas_a_eliminar)                                  # Elimino las columnas seleccionadas"
      ]
    },
    {
      "cell_type": "markdown",
      "metadata": {
        "id": "fau1k8RLuh6y"
      },
      "source": [
        "Hora debemos rellenar los datos que siguen estando faltantes"
      ]
    },
    {
      "cell_type": "code",
      "source": [
        "# Completar los valores faltantes en las columnas restantes con la moda\n",
        "for feature in d_02.columns:\n",
        "    if d_02[feature].isnull().sum() > 0:\n",
        "        mode_value = d_02[feature].mode()[0] # Calcular la moda de la columna\n",
        "        d_02[feature].fillna(mode_value, inplace=True)\n"
      ],
      "metadata": {
        "id": "R1WY6JKWdIB-"
      },
      "execution_count": null,
      "outputs": []
    },
    {
      "cell_type": "markdown",
      "source": [],
      "metadata": {
        "id": "qrjtB8GdIS1k"
      }
    },
    {
      "cell_type": "markdown",
      "source": [],
      "metadata": {
        "id": "AlLb3ZNBISjd"
      }
    },
    {
      "cell_type": "markdown",
      "source": [],
      "metadata": {
        "id": "84Z7gwgbISXl"
      }
    },
    {
      "cell_type": "markdown",
      "source": [
        "# **Modelos de regresión**"
      ],
      "metadata": {
        "id": "5tO0x4L_Bw9F"
      }
    },
    {
      "cell_type": "markdown",
      "source": [
        "Hacemos las particiones para el periodo de calibraciòn y modelaciòn"
      ],
      "metadata": {
        "id": "cJFJosBuIE8e"
      }
    },
    {
      "cell_type": "code",
      "source": [
        "d_02 = d_02.set_index('ID_LAT_LON_YEAR_WEEK')  # Indico la columna que quiero que me tome como indice"
      ],
      "metadata": {
        "id": "1ytuyoUQhZkJ"
      },
      "execution_count": null,
      "outputs": []
    },
    {
      "cell_type": "code",
      "source": [
        "X = d_02.values[:,:-1]           # Separo los valores que quiero que sean predichos del dataset inicial\n",
        "y = d_02[\"emission\"].values\n",
        "print (X.shape, y.shape)"
      ],
      "metadata": {
        "colab": {
          "base_uri": "https://localhost:8080/"
        },
        "id": "zjI5xkogID-9",
        "outputId": "89773aad-f5cf-40d8-f154-c9b1226990e7"
      },
      "execution_count": null,
      "outputs": [
        {
          "output_type": "stream",
          "name": "stdout",
          "text": [
            "(79023, 46) (79023,)\n"
          ]
        }
      ]
    },
    {
      "cell_type": "code",
      "source": [
        "from sklearn.linear_model import LinearRegression\n",
        "from sklearn.svm import SVR\n",
        "from sklearn.ensemble import RandomForestRegressor\n",
        "from sklearn.model_selection import train_test_split\n",
        "from sklearn.metrics import median_absolute_error, r2_score, mean_squared_error\n",
        "from sklearn.metrics import mean_absolute_error"
      ],
      "metadata": {
        "id": "o3oeUo8AObSb"
      },
      "execution_count": null,
      "outputs": []
    },
    {
      "cell_type": "code",
      "source": [
        "Xtr, Xts, ytr, yts = train_test_split(X,y, test_size=0.3)         # Hago la particion de calibracion (trent) y validacion (test)\n",
        "print (Xtr.shape, ytr.shape, Xts.shape, yts.shape)"
      ],
      "metadata": {
        "colab": {
          "base_uri": "https://localhost:8080/"
        },
        "id": "ALV179cWOknm",
        "outputId": "75863904-eeb4-4c60-edee-cb782dcf52b0"
      },
      "execution_count": null,
      "outputs": [
        {
          "output_type": "stream",
          "name": "stdout",
          "text": [
            "(55316, 46) (55316,) (23707, 46) (23707,)\n"
          ]
        }
      ]
    },
    {
      "cell_type": "code",
      "source": [
        "lr = LinearRegression()                #implemento un primer modelo muy sencillo (regresion lineal)\n",
        "lr.fit(Xtr, ytr)\n",
        "y_pred_lr = lr.predict(Xts)\n",
        "mae = mean_absolute_error(yts, y_pred_lr)\n",
        "print(f'MAE: {mae}')"
      ],
      "metadata": {
        "colab": {
          "base_uri": "https://localhost:8080/"
        },
        "id": "1p9mdoVgOyTs",
        "outputId": "92f2b897-b5e2-4e5f-ec06-32eda753efa0"
      },
      "execution_count": null,
      "outputs": [
        {
          "output_type": "stream",
          "name": "stdout",
          "text": [
            "MAE: 68.89609001910372\n"
          ]
        }
      ]
    },
    {
      "cell_type": "code",
      "source": [
        "svr_model = SVR(kernel='poly')         #Modelo suport vector machine\n",
        "svr_model.fit(Xtr, ytr)\n",
        "y_pred_svr = svr_model.predict(Xts)\n",
        "mae = mean_absolute_error(yts, y_pred_svr)\n",
        "print(f'MAE: {mae}')"
      ],
      "metadata": {
        "colab": {
          "base_uri": "https://localhost:8080/"
        },
        "id": "nAemg24yIQhG",
        "outputId": "799ac4b7-48c0-4d86-b426-2cd41071e749"
      },
      "execution_count": null,
      "outputs": [
        {
          "output_type": "stream",
          "name": "stdout",
          "text": [
            "MAE: 66.14332683234684\n"
          ]
        }
      ]
    },
    {
      "cell_type": "code",
      "source": [
        "rf_model = RandomForestRegressor(random_state=42)      # Modelo Random Forest Regressor\n",
        "rf_model.fit(Xtr, ytr)\n",
        "y_pred_rf = rf_model.predict(Xts)\n",
        "mae = mean_absolute_error(yts, y_pred_rf)\n",
        "print(f'MAE: {mae}')"
      ],
      "metadata": {
        "colab": {
          "base_uri": "https://localhost:8080/"
        },
        "id": "oHxZGHwvNhSI",
        "outputId": "ddcdd152-58e1-4a49-d327-f9bac4776159"
      },
      "execution_count": null,
      "outputs": [
        {
          "output_type": "stream",
          "name": "stdout",
          "text": [
            "MAE: 8.058251302454234\n"
          ]
        }
      ]
    },
    {
      "cell_type": "code",
      "source": [
        "rf_2 = RandomForestRegressor(n_estimators=300, random_state=1, n_jobs=-1)       # Un modelo implementado en una de las soluciones en Kaggle (alto costo computacional)\n",
        "rf_2.fit(Xtr, ytr)\n",
        "y_preds_rf_2 = rf_2.predict(Xts)\n",
        "mae = mean_absolute_error(yts, y_preds_rf_2)\n",
        "print(f'MAE: {mae}')"
      ],
      "metadata": {
        "id": "2nESZLXMlDkq",
        "colab": {
          "base_uri": "https://localhost:8080/"
        },
        "outputId": "9943ebcc-7c54-44fe-86c2-e02cdd277447"
      },
      "execution_count": null,
      "outputs": [
        {
          "output_type": "stream",
          "name": "stdout",
          "text": [
            "MAE: 8.017429985908187\n"
          ]
        }
      ]
    },
    {
      "cell_type": "code",
      "source": [
        "print(y_preds_rf_2)\n",
        "print(yts)"
      ],
      "metadata": {
        "colab": {
          "base_uri": "https://localhost:8080/"
        },
        "id": "BXBGqxbBFh5v",
        "outputId": "08abe572-f3db-4cf9-df41-50d998982eda"
      },
      "execution_count": null,
      "outputs": [
        {
          "output_type": "stream",
          "name": "stdout",
          "text": [
            "[ 34.75160225  32.64324903  64.3333919  ...  33.46231616  16.49002381\n",
            " 192.45888492]\n",
            "[ 35.041847  24.61847   65.14832  ...  31.72873   16.51515  209.29817 ]\n"
          ]
        }
      ]
    },
    {
      "cell_type": "markdown",
      "source": [
        "# validación Cruzada"
      ],
      "metadata": {
        "id": "F5bZ2aab6f4e"
      }
    },
    {
      "cell_type": "code",
      "source": [
        "from sklearn.model_selection import cross_val_score       # Validacion cruzada\n",
        "\n",
        "# Realizar validación cruzada con 5 folds\n",
        "scores = cross_val_score(rf_model, X, y, scoring='neg_mean_absolute_error', cv=5) # se ingresa el modelo de random forest creado anteriormente\n",
        "\n",
        "# Calcular el MAE promedio a partir de los scores\n",
        "mae_cv = -scores.mean()\n",
        "\n",
        "print(\"MAE - Validación Cruzada:\", mae_cv)"
      ],
      "metadata": {
        "colab": {
          "base_uri": "https://localhost:8080/"
        },
        "id": "cOLcU7Ju5k4Y",
        "outputId": "6488af0d-d59e-4215-c5ce-8949ce5ccd24"
      },
      "execution_count": null,
      "outputs": [
        {
          "output_type": "stream",
          "name": "stdout",
          "text": [
            "MAE - Validación Cruzada: 83.70171352383599\n"
          ]
        }
      ]
    },
    {
      "cell_type": "markdown",
      "source": [
        "\n",
        "# Curva de Aprendizaje\n"
      ],
      "metadata": {
        "id": "JQydYSmnpN6x"
      }
    },
    {
      "cell_type": "code",
      "source": [
        "from sklearn.model_selection import learning_curve                  #Curva de aprendizaje\n",
        "train_sizes, train_scores, val_scores = learning_curve(\n",
        "    rf_model, X, y, train_sizes=np.linspace(0.1, 1.0, 3),\n",
        "    scoring='neg_mean_absolute_error', cv=5\n",
        ")\n",
        "\n",
        "# Calcular los valores promedio y desviaciones estándar\n",
        "train_scores_mean = -np.mean(train_scores, axis=1)\n",
        "train_scores_std = np.std(train_scores, axis=1)\n",
        "val_scores_mean = -np.mean(val_scores, axis=1)\n",
        "val_scores_std = np.std(val_scores, axis=1)\n",
        "\n",
        "# Plotear las curvas de aprendizaje\n",
        "plt.figure(figsize=(10, 6))\n",
        "plt.title('Curvas de Aprendizaje')\n",
        "plt.xlabel('Tamaño del conjunto de entrenamiento')\n",
        "plt.ylabel('MAE')\n",
        "plt.grid(True)\n",
        "plt.fill_between(train_sizes, train_scores_mean - train_scores_std,\n",
        "                 train_scores_mean + train_scores_std, alpha=0.1, color='r')\n",
        "plt.fill_between(train_sizes, val_scores_mean - val_scores_std,\n",
        "                 val_scores_mean + val_scores_std, alpha=0.1, color='g')\n",
        "plt.plot(train_sizes, train_scores_mean, 'o-', color='r', label='Entrenamiento')\n",
        "plt.plot(train_sizes, val_scores_mean, 'o-', color='g', label='Validación')\n",
        "plt.legend(loc='best')\n",
        "plt.show()"
      ],
      "metadata": {
        "id": "KLIQR7i5pOia",
        "colab": {
          "base_uri": "https://localhost:8080/",
          "height": 564
        },
        "outputId": "e3443344-3f82-40a8-82dd-d799ed4e73be"
      },
      "execution_count": null,
      "outputs": [
        {
          "output_type": "display_data",
          "data": {
            "text/plain": [
              "<Figure size 1000x600 with 1 Axes>"
            ],
            "image/png": "[encoded data removed]"
          },
          "metadata": {}
        }
      ]
    },
    {
      "cell_type": "markdown",
      "source": [
        "# Metodos no supervisados"
      ],
      "metadata": {
        "id": "IZ4zp2Ll7bmv"
      }
    },
    {
      "cell_type": "code",
      "source": [
        "from sklearn.cluster import KMeans\n",
        "from sklearn.preprocessing import StandardScaler\n",
        "import matplotlib.pyplot as plt\n",
        "from sklearn.decomposition import PCA"
      ],
      "metadata": {
        "id": "L7NcNtbz7icu"
      },
      "execution_count": null,
      "outputs": []
    },
    {
      "cell_type": "code",
      "source": [
        "# Normalizar los datos\n",
        "scaler = StandardScaler()\n",
        "X_scaled = scaler.fit_transform(X)\n",
        "\n",
        "# Especificar el número de componentes principales deseados para PCA\n",
        "n_components = 2\n",
        "\n",
        "# Crear el modelo PCA\n",
        "pca = PCA(n_components=n_components)\n",
        "\n",
        "# Aplicar PCA a los datos normalizados\n",
        "X_pca = pca.fit_transform(X_scaled)\n",
        "\n",
        "# Crear un nuevo DataFrame con los componentes principales\n",
        "columns_pca = [f'PC{i+1}' for i in range(n_components)]\n",
        "df_pca = pd.DataFrame(data=X_pca, columns=columns_pca)\n",
        "\n",
        "# Seleccionar el número de clusters para K-Means\n",
        "num_clusters = 3\n",
        "\n",
        "# Crear el modelo K-Means\n",
        "kmeans = KMeans(n_clusters=num_clusters, random_state=1)\n",
        "\n",
        "# Aplicar K-Means a los componentes principales\n",
        "kmeans.fit(X_pca)\n",
        "\n",
        "# Agregar las etiquetas de cluster al DataFrame original\n",
        "d_02['cluster'] = kmeans.labels_\n",
        "\n",
        "# Crear un nuevo DataFrame con los componentes principales y las etiquetas de cluster\n",
        "df_pca_cluster = pd.concat([df_pca, d_02[['emission', 'cluster']]], axis=1)\n"
      ],
      "metadata": {
        "colab": {
          "base_uri": "https://localhost:8080/"
        },
        "id": "y8QhOuUUerrp",
        "outputId": "eac0fe1b-4a43-4509-c25d-31ba1a70a819"
      },
      "execution_count": null,
      "outputs": [
        {
          "output_type": "stream",
          "name": "stderr",
          "text": [
            "/usr/local/lib/python3.10/dist-packages/sklearn/cluster/_kmeans.py:870: FutureWarning: The default value of `n_init` will change from 10 to 'auto' in 1.4. Set the value of `n_init` explicitly to suppress the warning\n",
            "  warnings.warn(\n"
          ]
        }
      ]
    },
    {
      "cell_type": "code",
      "source": [
        "# Imprimir los resultados del clustering\n",
        "print(\"Resultados del Clustering con K-Means y Componentes Principales:\")\n",
        "print(df_pca_cluster)"
      ],
      "metadata": {
        "colab": {
          "base_uri": "https://localhost:8080/"
        },
        "id": "rK3OA6JZfEqW",
        "outputId": "c827c319-6f29-42a8-e8ca-bf0b4e074084"
      },
      "execution_count": null,
      "outputs": [
        {
          "output_type": "stream",
          "name": "stdout",
          "text": [
            "Resultados del Clustering con K-Means y Componentes Principales:\n",
            "                               PC1       PC2   emission  cluster\n",
            "0                         1.371046 -0.414703        NaN      NaN\n",
            "1                        -0.037173 -1.451774        NaN      NaN\n",
            "2                         1.507253  1.308671        NaN      NaN\n",
            "3                         4.475859 -1.145723        NaN      NaN\n",
            "4                         0.864575 -2.810919        NaN      NaN\n",
            "...                            ...       ...        ...      ...\n",
            "ID_-3.299_30.301_2021_48       NaN       NaN  29.404171      2.0\n",
            "ID_-3.299_30.301_2021_49       NaN       NaN  29.186497      2.0\n",
            "ID_-3.299_30.301_2021_50       NaN       NaN  29.131205      2.0\n",
            "ID_-3.299_30.301_2021_51       NaN       NaN  28.125792      2.0\n",
            "ID_-3.299_30.301_2021_52       NaN       NaN  27.239302      2.0\n",
            "\n",
            "[158046 rows x 4 columns]\n"
          ]
        }
      ]
    },
    {
      "cell_type": "code",
      "source": [
        "# Visualizar los resultados del clustering\n",
        "plt.scatter(X_pca[:, 0], X_pca[:, 1], c=d_02['cluster'], cmap='viridis')\n",
        "plt.title('Resultado del Clustering con K-Means')\n",
        "plt.xlabel('Componente Principal 1')\n",
        "plt.ylabel('Componente Principal 2')\n",
        "plt.show()"
      ],
      "metadata": {
        "colab": {
          "base_uri": "https://localhost:8080/"
        },
        "id": "-RpO9xHFfb2f",
        "outputId": "60bc7cd0-e3e5-400c-c887-4a21f50a0166"
      },
      "execution_count": null,
      "outputs": [
        {
          "output_type": "display_data",
          "data": {
            "text/plain": [
              "<Figure size 640x480 with 1 Axes>"
            ],
            "image/png": "[encoded data removed]"
          },
          "metadata": {}
        }
      ]
    }
  ],
  "metadata": {
    "colab": {
      "provenance": [],
      "include_colab_link": true
    },
    "kernelspec": {
      "display_name": "Python 3",
      "name": "python3"
    },
    "language_info": {
      "name": "python"
    }
  },
  "nbformat": 4,
  "nbformat_minor": 0
}